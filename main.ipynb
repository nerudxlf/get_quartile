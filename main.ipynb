{
  "nbformat": 4,
  "nbformat_minor": 0,
  "metadata": {
    "colab": {
      "name": "main.ipynb",
      "provenance": [],
      "authorship_tag": "ABX9TyMD9Hbvp1KeEE6TL+3OIPIb",
      "include_colab_link": true
    },
    "kernelspec": {
      "name": "python3",
      "display_name": "Python 3"
    }
  },
  "cells": [
    {
      "cell_type": "markdown",
      "metadata": {
        "id": "view-in-github",
        "colab_type": "text"
      },
      "source": [
        "<a href=\"https://colab.research.google.com/github/nerudxlf/get_quartile/blob/main/main.ipynb\" target=\"_parent\"><img src=\"https://colab.research.google.com/assets/colab-badge.svg\" alt=\"Open In Colab\"/></a>"
      ]
    },
    {
      "cell_type": "code",
      "metadata": {
        "id": "UAC9P3vRQQ8E"
      },
      "source": [
        "import pandas as pd\r\n",
        "from google.colab import files\r\n",
        "files.upload()"
      ],
      "execution_count": null,
      "outputs": []
    },
    {
      "cell_type": "code",
      "metadata": {
        "id": "Iihdo3DkQdbB"
      },
      "source": [
        "data_df = pd.read_csv(\"scimagojr_2019.csv\", sep=';', )\r\n",
        "categories_data = data_df[\"Categories\"].to_list()\r\n",
        "title_data = data_df[\"Title\"].to_list()\r\n",
        "dict_categories_and_title = dict(zip(title_data, categories_data))\r\n",
        "list_q1, list_q2, list_q3, list_q4, list_q_none = [], [], [], [], []\r\n",
        "for key, item in dict_categories_and_title.items():\r\n",
        "  index = [item.find(\"Q1\"), item.find(\"Q2\"), item.find(\"Q3\"), item.find(\"Q4\"), item.find(\"Q\")]\r\n",
        "  if index[0] != -1:\r\n",
        "    list_q1.append(key)\r\n",
        "  elif index[1] != -1:\r\n",
        "    list_q2.append(key)\r\n",
        "  elif index[2] != -1:\r\n",
        "    list_q3.append(key)\r\n",
        "  elif index[3] != -1:\r\n",
        "    list_q4.append(key)\r\n",
        "  elif index[4] == -1:\r\n",
        "    list_q_none.append(key)\r\n",
        "list_q1 = list(set(list_q1))\r\n",
        "list_q2 = list(set(list_q2))\r\n",
        "list_q3 = list(set(list_q3))\r\n",
        "list_q4 = list(set(list_q4))\r\n",
        "list_q_none = list(set(list_q_none))\r\n",
        "\r\n",
        "dict_q1 = {\"Q1\": list_q1}\r\n",
        "dict_q2 = {\"Q2\": list_q2}\r\n",
        "dict_q3 = {\"Q3\": list_q3}\r\n",
        "dict_q4 = {\"Q4\": list_q4}\r\n",
        "dict_q_none = {\"Q none\": list_q_none}\r\n",
        "\r\n",
        "result_q1 = pd.DataFrame(dict_q1)\r\n",
        "result_q2 = pd.DataFrame(dict_q2)\r\n",
        "result_q3 = pd.DataFrame(dict_q3)\r\n",
        "result_q4 = pd.DataFrame(dict_q4)\r\n",
        "result_q_none = pd.DataFrame(dict_q_none)\r\n",
        "\r\n",
        "result_q1.to_excel(\"result_q1.xlsx\")\r\n",
        "result_q2.to_excel(\"result_q2.xlsx\")\r\n",
        "result_q3.to_excel(\"result_q3.xlsx\")\r\n",
        "result_q4.to_excel(\"result_q4.xlsx\")\r\n",
        "result_q_none.to_excel(\"result_q_none.xlsx\")"
      ],
      "execution_count": null,
      "outputs": []
    }
  ]
}